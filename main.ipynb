{
 "cells": [
  {
   "cell_type": "markdown",
   "metadata": {
    "slideshow": {
     "slide_type": "fragment"
    }
   },
   "source": [
    "# DIY rational & complex numbers"
   ]
  },
  {
   "cell_type": "code",
   "execution_count": 1,
   "metadata": {},
   "outputs": [
    {
     "name": "stdout",
     "output_type": "stream",
     "text": [
      "4 + 5 = 9\n",
      "6 - 3 = 3\n",
      "2 * 7 = 14\n",
      "21 ÷ 3 = 7\n"
     ]
    }
   ],
   "source": [
    "@show 4 + 5;\n",
    "@show 6 - 3;\n",
    "@show 2 * 7;\n",
    "@show 21 ÷ 3;"
   ]
  },
  {
   "cell_type": "code",
   "execution_count": null,
   "metadata": {},
   "outputs": [],
   "source": [
    "struct MyRational{T <: Signed}\n",
    "    top::T\n",
    "    btm::T\n",
    "end\n",
    "MyRational{T}(x::T) = MyRational(x, one(T))"
   ]
  },
  {
   "cell_type": "code",
   "execution_count": 3,
   "metadata": {},
   "outputs": [
    {
     "data": {
      "text/plain": [
       "⨸ (generic function with 1 method)"
      ]
     },
     "execution_count": 3,
     "metadata": {},
     "output_type": "execute_result"
    }
   ],
   "source": [
    "function ⨸{T <: Signed}(top::T, btm::T)\n",
    "    reduce(value) = sign(btm) * value ÷ gcd(top, btm)\n",
    "    return MyRational{T}(reduce(top), reduce(btm))\n",
    "end"
   ]
  },
  {
   "cell_type": "code",
   "execution_count": 4,
   "metadata": {},
   "outputs": [
    {
     "data": {
      "text/plain": [
       "MyRational{Int64}(1, 2)"
      ]
     },
     "execution_count": 4,
     "metadata": {},
     "output_type": "execute_result"
    }
   ],
   "source": [
    "4 ⨸ 8"
   ]
  },
  {
   "cell_type": "code",
   "execution_count": 5,
   "metadata": {},
   "outputs": [
    {
     "data": {
      "text/plain": [
       "MyRational{Int64}(-1, 2)"
      ]
     },
     "execution_count": 5,
     "metadata": {},
     "output_type": "execute_result"
    }
   ],
   "source": [
    "4 ⨸ -8"
   ]
  },
  {
   "cell_type": "code",
   "execution_count": 6,
   "metadata": {
    "scrolled": false
   },
   "outputs": [
    {
     "ename": "LoadError",
     "evalue": "\u001b[91mMethodError: no method matching ⨸(::Int64, ::Float64)\u001b[0m\nClosest candidates are:\n  ⨸(::T<:Signed, \u001b[91m::T<:Signed\u001b[39m) where T<:Signed at In[3]:2\u001b[39m",
     "output_type": "error",
     "traceback": [
      "\u001b[91mMethodError: no method matching ⨸(::Int64, ::Float64)\u001b[0m\nClosest candidates are:\n  ⨸(::T<:Signed, \u001b[91m::T<:Signed\u001b[39m) where T<:Signed at In[3]:2\u001b[39m",
      "",
      "Stacktrace:",
      " [1] \u001b[1minclude_string\u001b[22m\u001b[22m\u001b[1m(\u001b[22m\u001b[22m::String, ::String\u001b[1m)\u001b[22m\u001b[22m at \u001b[1m./loading.jl:522\u001b[22m\u001b[22m"
     ]
    }
   ],
   "source": [
    "4 ⨸ 2.5"
   ]
  },
  {
   "cell_type": "code",
   "execution_count": 7,
   "metadata": {},
   "outputs": [
    {
     "ename": "LoadError",
     "evalue": "\u001b[91mMethodError: no method matching ⨸(::Float64, ::Float64)\u001b[39m",
     "output_type": "error",
     "traceback": [
      "\u001b[91mMethodError: no method matching ⨸(::Float64, ::Float64)\u001b[39m",
      "",
      "Stacktrace:",
      " [1] \u001b[1minclude_string\u001b[22m\u001b[22m\u001b[1m(\u001b[22m\u001b[22m::String, ::String\u001b[1m)\u001b[22m\u001b[22m at \u001b[1m./loading.jl:522\u001b[22m\u001b[22m"
     ]
    }
   ],
   "source": [
    "2.5 ⨸ 2.5"
   ]
  },
  {
   "cell_type": "code",
   "execution_count": 8,
   "metadata": {},
   "outputs": [],
   "source": [
    "function Base.show{T}(io::IO, r::MyRational{T})\n",
    "    if r.top == zero(T)\n",
    "        result = \"$(zero(T))\"\n",
    "    elseif r.btm == one(T)\n",
    "        result = \"$(r.top)\"\n",
    "    else\n",
    "        result = \"$(r.top) ⨸ $(r.btm)\"\n",
    "    end\n",
    "    print(io, result)\n",
    "end"
   ]
  },
  {
   "cell_type": "code",
   "execution_count": 9,
   "metadata": {
    "scrolled": false
   },
   "outputs": [
    {
     "data": {
      "text/plain": [
       "3 ⨸ 2"
      ]
     },
     "execution_count": 9,
     "metadata": {},
     "output_type": "execute_result"
    }
   ],
   "source": [
    "6 ⨸ 4"
   ]
  },
  {
   "cell_type": "code",
   "execution_count": 10,
   "metadata": {},
   "outputs": [
    {
     "name": "stdout",
     "output_type": "stream",
     "text": [
      "zero(Int) = 0\n",
      "one(Int) = 1\n",
      "sign(4) = 1\n",
      "sign(-5) = -1\n"
     ]
    }
   ],
   "source": [
    "@show zero(Int) one(Int) sign(4) sign(-5);"
   ]
  },
  {
   "cell_type": "code",
   "execution_count": 11,
   "metadata": {},
   "outputs": [],
   "source": [
    "Base.zero{T}(::Type{MyRational{T}}) = MyRational(zero(T), one(T))\n",
    "Base.one{T}(::Type{MyRational{T}}) = MyRational(one(T), one(T))\n",
    "Base.sign(r::MyRational) = sign(r.top)\n",
    "Base.abs(r::MyRational) = MyRational(abs(r.top), r.btm)"
   ]
  },
  {
   "cell_type": "code",
   "execution_count": 12,
   "metadata": {
    "scrolled": true
   },
   "outputs": [
    {
     "name": "stdout",
     "output_type": "stream",
     "text": [
      "zero(MyRational{Int}) = 0\n",
      "one(MyRational{Int}) = 1\n",
      "sign(5 ⨸ 3) = 1\n",
      "sign(-5 ⨸ 3) = -1\n",
      "sign(5 ⨸ -3) = -1\n",
      "abs(6 ⨸ -5) = 6 ⨸ 5\n"
     ]
    }
   ],
   "source": [
    "@show zero(MyRational{Int}) one(MyRational{Int}) sign(5 ⨸ 3) sign(-5 ⨸ 3) sign(5 ⨸ -3);\n",
    "@show abs(6 ⨸ -5);"
   ]
  },
  {
   "cell_type": "code",
   "execution_count": 13,
   "metadata": {
    "collapsed": true
   },
   "outputs": [],
   "source": [
    "Base.:+(r₁::MyRational, r₂::MyRational) = (r₁.top * r₂.btm + r₂.top * r₁.btm) ⨸ (r₁.btm * r₂.btm)"
   ]
  },
  {
   "cell_type": "code",
   "execution_count": 14,
   "metadata": {
    "scrolled": true
   },
   "outputs": [
    {
     "data": {
      "text/plain": [
       "1"
      ]
     },
     "execution_count": 14,
     "metadata": {},
     "output_type": "execute_result"
    }
   ],
   "source": [
    "4 ⨸ 6 + 1 ⨸ 3"
   ]
  },
  {
   "cell_type": "code",
   "execution_count": 15,
   "metadata": {},
   "outputs": [
    {
     "data": {
      "text/plain": [
       "⨸ (generic function with 2 methods)"
      ]
     },
     "execution_count": 15,
     "metadata": {},
     "output_type": "execute_result"
    }
   ],
   "source": [
    "Base.:-(r₁::MyRational, r₂::MyRational) = (r₁.top * r₂.btm - r₂.top * r₁.btm) ⨸ (r₁.btm * r₂.btm)\n",
    "Base.:*(r₁::MyRational, r₂::MyRational) = (r₁.top * r₂.top) ⨸ (r₁.btm * r₂.btm)\n",
    "⨸(r₁::MyRational, r₂::MyRational) = (r₁.top * r₂.btm) ⨸ (r₁.btm * r₂.top)"
   ]
  },
  {
   "cell_type": "code",
   "execution_count": 16,
   "metadata": {},
   "outputs": [
    {
     "name": "stdout",
     "output_type": "stream",
     "text": [
      "5 ⨸ 6 - 1 ⨸ 3 = 1 ⨸ 2\n",
      "(2 ⨸ 3) * (6 ⨸ 8) = 1 ⨸ 2\n",
      "(7 ⨸ 13) ⨸ (7 ⨸ 13) = 1\n"
     ]
    }
   ],
   "source": [
    "@show (5 ⨸ 6) - (1 ⨸ 3);\n",
    "@show (2 ⨸ 3) * (6 ⨸ 8);\n",
    "@show (7 ⨸ 13) ⨸ (7 ⨸ 13);"
   ]
  },
  {
   "cell_type": "code",
   "execution_count": 17,
   "metadata": {
    "collapsed": true
   },
   "outputs": [],
   "source": [
    "Base.:*{T}(m::T, c::MyRational) = Base.:*(MyRational(m), c)\n",
    "Base.:+{T}(x::T, c::MyRational) = Base.:+(MyRational(x), c)\n",
    "Base.:-{T}(x::T, c::MyRational) = Base.:-(MyRational(x), c)\n",
    "\n",
    "Base.:*{T}(c::MyRational, m::T) = Base.:*(c, MyRational(m))\n",
    "Base.:+{T}(c::MyRational, x::T) = Base.:+(c, MyRational(x))\n",
    "Base.:-{T}(c::MyRational, x::T) = Base.:-(c, MyRational(x))"
   ]
  },
  {
   "cell_type": "code",
   "execution_count": 18,
   "metadata": {},
   "outputs": [
    {
     "data": {
      "text/plain": [
       "MyComplex"
      ]
     },
     "execution_count": 18,
     "metadata": {},
     "output_type": "execute_result"
    }
   ],
   "source": [
    "struct MyComplex{T}\n",
    "    re::T\n",
    "    im::T\n",
    "end\n",
    "MyComplex{T}(re::T) = MyComplex(re, zero(T))"
   ]
  },
  {
   "cell_type": "code",
   "execution_count": 19,
   "metadata": {
    "collapsed": true
   },
   "outputs": [],
   "source": [
    "Base.:+(c₁::MyComplex, c₂::MyComplex) = MyComplex(c₁.re + c₂.re, c₁.im + c₂.im)\n",
    "Base.:-(c₁::MyComplex, c₂::MyComplex) = MyComplex(c₁.re - c₂.re, c₁.im - c₂.im)\n",
    "Base.:*(c₁::MyComplex, c₂::MyComplex) = MyComplex(c₁.re * c₂.re - c₁.im * c₂.im, c₁.re * c₂.im + c₁.im * c₂.re)"
   ]
  },
  {
   "cell_type": "code",
   "execution_count": 20,
   "metadata": {
    "collapsed": true
   },
   "outputs": [],
   "source": [
    "Base.:*{T}(m::T, c::MyComplex) = Base.:*(MyComplex(m), c)\n",
    "Base.:+{T}(x::T, c::MyComplex) = Base.:+(MyComplex(x), c)\n",
    "Base.:-{T}(x::T, c::MyComplex) = Base.:-(MyComplex(x), c)\n",
    "\n",
    "Base.:*{T}(c::MyComplex, m::T) = Base.:*(c, MyComplex(m))\n",
    "Base.:+{T}(c::MyComplex, x::T) = Base.:+(c, MyComplex(x))\n",
    "Base.:-{T}(c::MyComplex, x::T) = Base.:-(c, MyComplex(x))"
   ]
  },
  {
   "cell_type": "code",
   "execution_count": 21,
   "metadata": {},
   "outputs": [
    {
     "name": "stdout",
     "output_type": "stream",
     "text": [
      "4 + MyComplex(5, 6) = MyComplex{Int64}(9, 6)\n",
      "MyComplex(5, 6) - 3 = MyComplex{Int64}(2, 6)\n",
      "4 * MyComplex(0, 1) = MyComplex{Int64}(0, 4)\n"
     ]
    }
   ],
   "source": [
    "@show 4 + MyComplex(5, 6);\n",
    "@show MyComplex(5, 6) - 3;\n",
    "@show 4 * MyComplex(0, 1);"
   ]
  },
  {
   "cell_type": "code",
   "execution_count": 22,
   "metadata": {
    "scrolled": true
   },
   "outputs": [
    {
     "data": {
      "text/plain": [
       "MyComplex{Int64}(0, 1)"
      ]
     },
     "execution_count": 22,
     "metadata": {},
     "output_type": "execute_result"
    }
   ],
   "source": [
    "i = MyComplex(0, 1)"
   ]
  },
  {
   "cell_type": "code",
   "execution_count": 23,
   "metadata": {},
   "outputs": [
    {
     "data": {
      "text/plain": [
       "MyComplex{Int64}(4, 2)"
      ]
     },
     "execution_count": 23,
     "metadata": {},
     "output_type": "execute_result"
    }
   ],
   "source": [
    "4 + 2i"
   ]
  },
  {
   "cell_type": "code",
   "execution_count": 24,
   "metadata": {},
   "outputs": [
    {
     "data": {
      "text/plain": [
       "5"
      ]
     },
     "execution_count": 24,
     "metadata": {},
     "output_type": "execute_result"
    }
   ],
   "source": [
    "a = 4\n",
    "(a == 4) && (a = 5)"
   ]
  },
  {
   "cell_type": "code",
   "execution_count": 25,
   "metadata": {},
   "outputs": [],
   "source": [
    "function Base.show{T}(io::IO, c::MyComplex{T})\n",
    "    sign_string() = sign(c.im) == 1 ? \" + \" : \" - \"\n",
    "    im_string() = c.im == one(T) ? \"i\" : \"$(abs(c.im))i\"\n",
    "    \n",
    "    if c.re == zero(T)\n",
    "        if c.im == 0\n",
    "            result = string(zero(T))\n",
    "        else\n",
    "            result = im_string()\n",
    "        end\n",
    "    else\n",
    "        if c.im == zero(T)\n",
    "            result = string(c.re)\n",
    "        else\n",
    "            result = string(c.re) * sign_string() * im_string()\n",
    "        end\n",
    "    end\n",
    "    \n",
    "    print(io, result)\n",
    "end"
   ]
  },
  {
   "cell_type": "code",
   "execution_count": 26,
   "metadata": {},
   "outputs": [
    {
     "name": "stdout",
     "output_type": "stream",
     "text": [
      "(4 + 2i) + (3 - 4i) = 7 - 2i\n",
      "(4 + 2i) - (3 - 4i) = 1 + 6i\n",
      "(4 + 2i) * (3 - 4i) = 20 - 10i\n"
     ]
    }
   ],
   "source": [
    "@show (4 + 2i) + (3 - 4i);\n",
    "@show (4 + 2i) - (3 - 4i);\n",
    "@show (4 + 2i) * (3 - 4i);"
   ]
  },
  {
   "cell_type": "code",
   "execution_count": 27,
   "metadata": {
    "collapsed": true
   },
   "outputs": [],
   "source": [
    "Base.zero{T}(::Type{MyComplex{T}}) = MyComplex(zero(T), zero(T))\n",
    "Base.one{T}(::Type{MyComplex{T}}) = MyComplex(one(T), zero(T))"
   ]
  },
  {
   "cell_type": "code",
   "execution_count": 28,
   "metadata": {},
   "outputs": [
    {
     "name": "stdout",
     "output_type": "stream",
     "text": [
      "i = i\n",
      "zero(MyComplex{Int}) = 0\n",
      "one(MyComplex{Int}) = 1\n"
     ]
    }
   ],
   "source": [
    "@show i zero(MyComplex{Int}) one(MyComplex{Int});"
   ]
  },
  {
   "cell_type": "code",
   "execution_count": 29,
   "metadata": {},
   "outputs": [],
   "source": [
    "Base.:*(r::MyRational, c::MyComplex) = Base.:*(MyComplex(r), c)\n",
    "Base.:+(r::MyRational, c::MyComplex) = Base.:+(MyComplex(r), c)\n",
    "Base.:-(r::MyRational, c::MyComplex) = Base.:-(MyComplex(r), c)\n",
    "\n",
    "Base.:*(c::MyComplex, r::MyRational) = Base.:*(c, MyComplex(r))\n",
    "Base.:+(c::MyComplex, r::MyRational) = Base.:+(c, MyComplex(r))\n",
    "Base.:-(c::MyComplex, r::MyRational) = Base.:-(c, MyComplex(r))"
   ]
  },
  {
   "cell_type": "code",
   "execution_count": 30,
   "metadata": {},
   "outputs": [
    {
     "name": "stdout",
     "output_type": "stream",
     "text": [
      "(7 + 8i) + 2 = 9 + 8i\n",
      "(7 + 8i) - 2 = 5 + 8i\n",
      "(7 + 8i) * 2 = 14 + 16i\n"
     ]
    }
   ],
   "source": [
    "@show (7 + 8i) + 2;\n",
    "@show (7 + 8i) - 2;\n",
    "@show (7 + 8i) * 2;"
   ]
  },
  {
   "cell_type": "code",
   "execution_count": 31,
   "metadata": {},
   "outputs": [
    {
     "data": {
      "text/plain": [
       "⨸ (generic function with 3 methods)"
      ]
     },
     "execution_count": 31,
     "metadata": {},
     "output_type": "execute_result"
    }
   ],
   "source": [
    "⨸{T <: Signed}(c::MyComplex{T}, x::T) = (c.re ⨸ x) + (c.im ⨸ x) * i"
   ]
  },
  {
   "cell_type": "code",
   "execution_count": 32,
   "metadata": {},
   "outputs": [
    {
     "name": "stdout",
     "output_type": "stream",
     "text": [
      "(7 + 8i) ⨸ 2 = 7 ⨸ 2 + 4i\n"
     ]
    }
   ],
   "source": [
    "@show (7 + 8i) ⨸ 2;"
   ]
  },
  {
   "cell_type": "code",
   "execution_count": 33,
   "metadata": {
    "collapsed": true
   },
   "outputs": [],
   "source": [
    "function Base.show{T}(io::IO, c::MyComplex{MyRational{T}})\n",
    "    sign_string() = sign(c.im) == 1 ? \" + \" : \" - \"\n",
    "    re_string() = c.re.btm == one(T) ? \"$(c.re)\" : \"($(c.re))\"\n",
    "    function im_string()\n",
    "        if c.im == one(MyRational{T})\n",
    "            return \"i\"\n",
    "        elseif c.im.btm == one(T)\n",
    "            return \"$(abs(c.im))i\"\n",
    "        end\n",
    "        return \"($(abs(c.im)))i\"\n",
    "    end\n",
    "    \n",
    "    if c.re == zero(MyRational{T})\n",
    "        if c.im == zero(MyRational{T})\n",
    "            result = string(zero(T))\n",
    "        else\n",
    "            result = im_string()\n",
    "        end\n",
    "    else\n",
    "        if c.im == zero(MyRational{T})\n",
    "            result = re_string()\n",
    "        else\n",
    "            result = re_string() * sign_string() * im_string()\n",
    "        end\n",
    "    end\n",
    "    \n",
    "    print(io, result)\n",
    "end"
   ]
  },
  {
   "cell_type": "code",
   "execution_count": 34,
   "metadata": {},
   "outputs": [
    {
     "data": {
      "text/plain": [
       "(7 ⨸ 2) + 4i"
      ]
     },
     "execution_count": 34,
     "metadata": {},
     "output_type": "execute_result"
    }
   ],
   "source": [
    "(7 + 8i) ⨸ 2"
   ]
  },
  {
   "cell_type": "code",
   "execution_count": 36,
   "metadata": {},
   "outputs": [],
   "source": [
    "Base.inv(c::MyComplex) = MyComplex(c.re, -c.im) ⨸ (c.re^2 + c.im^2)"
   ]
  },
  {
   "cell_type": "code",
   "execution_count": 38,
   "metadata": {},
   "outputs": [
    {
     "data": {
      "text/plain": [
       "(5 ⨸ 41) - (4 ⨸ 41)i"
      ]
     },
     "execution_count": 38,
     "metadata": {},
     "output_type": "execute_result"
    }
   ],
   "source": [
    "inv(5 + 4i)"
   ]
  },
  {
   "cell_type": "code",
   "execution_count": 37,
   "metadata": {},
   "outputs": [
    {
     "data": {
      "text/plain": [
       "1"
      ]
     },
     "execution_count": 37,
     "metadata": {},
     "output_type": "execute_result"
    }
   ],
   "source": [
    "((5 ⨸ 41) - (4 ⨸ 41)i) * (5 + 4i)"
   ]
  },
  {
   "cell_type": "code",
   "execution_count": 39,
   "metadata": {},
   "outputs": [
    {
     "data": {
      "text/plain": [
       "⨸ (generic function with 4 methods)"
      ]
     },
     "execution_count": 39,
     "metadata": {},
     "output_type": "execute_result"
    }
   ],
   "source": [
    "⨸{T <: Signed}(c₁::MyComplex{T}, c₂::MyComplex{T}) = Base.:*(c₁, inv(c₂))"
   ]
  },
  {
   "cell_type": "code",
   "execution_count": 43,
   "metadata": {
    "scrolled": true
   },
   "outputs": [
    {
     "data": {
      "text/plain": [
       "1"
      ]
     },
     "execution_count": 43,
     "metadata": {},
     "output_type": "execute_result"
    }
   ],
   "source": [
    "(5 - 7i) ⨸ (5 - 7i)"
   ]
  },
  {
   "cell_type": "code",
   "execution_count": 44,
   "metadata": {},
   "outputs": [
    {
     "data": {
      "text/plain": [
       "(-25 ⨸ 37) + (39 ⨸ 37)i"
      ]
     },
     "execution_count": 44,
     "metadata": {},
     "output_type": "execute_result"
    }
   ],
   "source": [
    "(4 + 10i) ⨸ (5 - 7i)"
   ]
  },
  {
   "cell_type": "markdown",
   "metadata": {
    "slideshow": {
     "slide_type": "fragment"
    }
   },
   "source": [
    "---"
   ]
  },
  {
   "cell_type": "markdown",
   "metadata": {
    "slideshow": {
     "slide_type": "fragment"
    }
   },
   "source": [
    "---"
   ]
  },
  {
   "cell_type": "markdown",
   "metadata": {
    "slideshow": {
     "slide_type": "slide"
    }
   },
   "source": [
    "<div style=\"font-size:48px; text-align: center\">\n",
    "Thank you! =)\n",
    "</div>"
   ]
  }
 ],
 "metadata": {
  "hide_input": false,
  "kernelspec": {
   "display_name": "Julia 0.6.2",
   "language": "julia",
   "name": "julia-0.6"
  },
  "language_info": {
   "file_extension": ".jl",
   "mimetype": "application/julia",
   "name": "julia",
   "version": "0.6.2"
  },
  "livereveal": {
   "auto_select": "code",
   "auto_select_fragment": true,
   "autolaunch": false,
   "scroll": true,
   "transition": "zoom"
  },
  "toc": {
   "nav_menu": {},
   "number_sections": true,
   "sideBar": true,
   "skip_h1_title": false,
   "title_cell": "Table of Contents",
   "title_sidebar": "Contents",
   "toc_cell": false,
   "toc_position": {},
   "toc_section_display": true,
   "toc_window_display": false
  }
 },
 "nbformat": 4,
 "nbformat_minor": 2
}
